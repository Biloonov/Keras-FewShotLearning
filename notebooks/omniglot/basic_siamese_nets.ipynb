{
  "nbformat": 4,
  "nbformat_minor": 0,
  "metadata": {
    "language_info": {
      "codemirror_mode": {
        "name": "ipython",
        "version": 2
      },
      "file_extension": ".py",
      "mimetype": "text/x-python",
      "name": "python",
      "nbconvert_exporter": "python",
      "pygments_lexer": "ipython2",
      "version": "2.7.6"
    },
    "kernelspec": {
      "name": "python3",
      "display_name": "Python 3"
    },
    "pycharm": {
      "stem_cell": {
        "cell_type": "raw",
        "source": [],
        "metadata": {
          "collapsed": false
        }
      }
    },
    "colab": {
      "name": "basic_siamese_nets.ipynb",
      "version": "0.3.2",
      "provenance": [],
      "include_colab_link": true
    },
    "accelerator": "GPU"
  },
  "cells": [
    {
      "cell_type": "markdown",
      "metadata": {
        "id": "view-in-github",
        "colab_type": "text"
      },
      "source": [
        "<a href=\"https://colab.research.google.com/github/ClementWalter/Keras-FewShotLearning/blob/master/notebooks/omniglot/basic_siamese_nets.ipynb\" target=\"_parent\"><img src=\"https://colab.research.google.com/assets/colab-badge.svg\" alt=\"Open In Colab\"/></a>"
      ]
    },
    {
      "cell_type": "code",
      "metadata": {
        "id": "ACQm087qRTvH",
        "colab_type": "code",
        "colab": {
          "base_uri": "https://localhost:8080/",
          "height": 537
        },
        "outputId": "8eb303c2-9723-487d-e1a3-74de24d3954b"
      },
      "source": [
        "from pathlib import Path\n",
        "from unittest.mock import patch\n",
        "\n",
        "import imgaug.augmenters as iaa\n",
        "import pandas as pd\n",
        "from tensorflow.python.keras.callbacks import ModelCheckpoint, TensorBoard\n",
        "from tensorflow.python.keras import Model\n",
        "\n",
        "!pip install git+https://github.com/ClementWalter/Keras-FewShotLearning.git\n",
        "from keras_fsl.datasets import omniglot\n",
        "from keras_fsl.models import SiameseNets\n",
        "from keras_fsl.sequences import (\n",
        "    DeterministicSequence,\n",
        "    RandomBalancedPairsSequence,\n",
        ")\n",
        "from keras_fsl.utils import patch_len, default_workers\n",
        "# prevent issue with multiprocessing and long sequences, see https://github.com/keras-team/keras/issues/13226\n",
        "patch_fit_generator = patch(\n",
        "    'tensorflow.keras.Model.fit_generator',\n",
        "    side_effect=default_workers(patch_len(Model.fit_generator)),\n",
        ")\n",
        "patch_fit_generator.start()"
      ],
      "execution_count": 1,
      "outputs": [
        {
          "output_type": "stream",
          "text": [
            "Collecting git+https://github.com/ClementWalter/Keras-FewShotLearning.git\n",
            "  Cloning https://github.com/ClementWalter/Keras-FewShotLearning.git to /tmp/pip-req-build-nu7gs0w_\n",
            "  Running command git clone -q https://github.com/ClementWalter/Keras-FewShotLearning.git /tmp/pip-req-build-nu7gs0w_\n",
            "Requirement already satisfied: pandas>=0.24.2 in /usr/local/lib/python3.6/dist-packages (from keras-fsl==0.0.1) (0.24.2)\n",
            "Requirement already satisfied: imgaug>=0.2.9 in /usr/local/lib/python3.6/dist-packages (from keras-fsl==0.0.1) (0.2.9)\n",
            "Requirement already satisfied: numpy>=1.16.4 in /usr/local/lib/python3.6/dist-packages (from keras-fsl==0.0.1) (1.16.5)\n",
            "Requirement already satisfied: pytz>=2011k in /usr/local/lib/python3.6/dist-packages (from pandas>=0.24.2->keras-fsl==0.0.1) (2018.9)\n",
            "Requirement already satisfied: python-dateutil>=2.5.0 in /usr/local/lib/python3.6/dist-packages (from pandas>=0.24.2->keras-fsl==0.0.1) (2.5.3)\n",
            "Requirement already satisfied: imageio in /usr/local/lib/python3.6/dist-packages (from imgaug>=0.2.9->keras-fsl==0.0.1) (2.4.1)\n",
            "Requirement already satisfied: scipy in /usr/local/lib/python3.6/dist-packages (from imgaug>=0.2.9->keras-fsl==0.0.1) (1.3.1)\n",
            "Requirement already satisfied: Pillow in /usr/local/lib/python3.6/dist-packages (from imgaug>=0.2.9->keras-fsl==0.0.1) (4.3.0)\n",
            "Requirement already satisfied: Shapely in /usr/local/lib/python3.6/dist-packages (from imgaug>=0.2.9->keras-fsl==0.0.1) (1.6.4.post2)\n",
            "Requirement already satisfied: matplotlib in /usr/local/lib/python3.6/dist-packages (from imgaug>=0.2.9->keras-fsl==0.0.1) (3.0.3)\n",
            "Requirement already satisfied: opencv-python in /usr/local/lib/python3.6/dist-packages (from imgaug>=0.2.9->keras-fsl==0.0.1) (3.4.5.20)\n",
            "Requirement already satisfied: scikit-image>=0.11.0 in /usr/local/lib/python3.6/dist-packages (from imgaug>=0.2.9->keras-fsl==0.0.1) (0.15.0)\n",
            "Requirement already satisfied: six in /usr/local/lib/python3.6/dist-packages (from imgaug>=0.2.9->keras-fsl==0.0.1) (1.12.0)\n",
            "Requirement already satisfied: olefile in /usr/local/lib/python3.6/dist-packages (from Pillow->imgaug>=0.2.9->keras-fsl==0.0.1) (0.46)\n",
            "Requirement already satisfied: pyparsing!=2.0.4,!=2.1.2,!=2.1.6,>=2.0.1 in /usr/local/lib/python3.6/dist-packages (from matplotlib->imgaug>=0.2.9->keras-fsl==0.0.1) (2.4.2)\n",
            "Requirement already satisfied: kiwisolver>=1.0.1 in /usr/local/lib/python3.6/dist-packages (from matplotlib->imgaug>=0.2.9->keras-fsl==0.0.1) (1.1.0)\n",
            "Requirement already satisfied: cycler>=0.10 in /usr/local/lib/python3.6/dist-packages (from matplotlib->imgaug>=0.2.9->keras-fsl==0.0.1) (0.10.0)\n",
            "Requirement already satisfied: PyWavelets>=0.4.0 in /usr/local/lib/python3.6/dist-packages (from scikit-image>=0.11.0->imgaug>=0.2.9->keras-fsl==0.0.1) (1.0.3)\n",
            "Requirement already satisfied: networkx>=2.0 in /usr/local/lib/python3.6/dist-packages (from scikit-image>=0.11.0->imgaug>=0.2.9->keras-fsl==0.0.1) (2.3)\n",
            "Requirement already satisfied: setuptools in /usr/local/lib/python3.6/dist-packages (from kiwisolver>=1.0.1->matplotlib->imgaug>=0.2.9->keras-fsl==0.0.1) (41.2.0)\n",
            "Requirement already satisfied: decorator>=4.3.0 in /usr/local/lib/python3.6/dist-packages (from networkx>=2.0->scikit-image>=0.11.0->imgaug>=0.2.9->keras-fsl==0.0.1) (4.4.0)\n",
            "Building wheels for collected packages: keras-fsl\n",
            "  Building wheel for keras-fsl (setup.py) ... \u001b[?25l\u001b[?25hdone\n",
            "  Created wheel for keras-fsl: filename=keras_fsl-0.0.1-cp36-none-any.whl size=17546 sha256=161dd22b89d1f1ecd8e85bf8740efd1ef8e9124a54d39ef57085229f492eac92\n",
            "  Stored in directory: /tmp/pip-ephem-wheel-cache-2m1z5pyi/wheels/b2/b1/19/f3d9c95093ddc56d2c447747668d7a97f482a1ca2d9f1da22b\n",
            "Successfully built keras-fsl\n",
            "Installing collected packages: keras-fsl\n",
            "Successfully installed keras-fsl-0.0.1\n"
          ],
          "name": "stdout"
        },
        {
          "output_type": "execute_result",
          "data": {
            "text/plain": [
              "<MagicMock name='fit_generator' id='140508297199400'>"
            ]
          },
          "metadata": {
            "tags": []
          },
          "execution_count": 1
        }
      ]
    },
    {
      "cell_type": "code",
      "metadata": {
        "pycharm": {
          "name": "#%% Get data\n"
        },
        "id": "4CMnh9VoRTvQ",
        "colab_type": "code",
        "colab": {
          "base_uri": "https://localhost:8080/",
          "height": 82
        },
        "outputId": "4102dd97-d58a-429e-9fa1-df2f0bff6773"
      },
      "source": [
        "train_set, test_set = omniglot.load_data()"
      ],
      "execution_count": 3,
      "outputs": [
        {
          "output_type": "stream",
          "text": [
            "Downloading data from https://raw.githubusercontent.com/brendenlake/omniglot/master/python/images_background.zip\n",
            "9469952/9464212 [==============================] - 0s 0us/step\n",
            "Downloading data from https://raw.githubusercontent.com/brendenlake/omniglot/master/python/images_evaluation.zip\n",
            "6463488/6462886 [==============================] - 0s 0us/step\n"
          ],
          "name": "stdout"
        }
      ]
    },
    {
      "cell_type": "code",
      "metadata": {
        "pycharm": {
          "name": "#%% Update label columns to be able to mix alphabet during training\n"
        },
        "id": "nSOytmzhRTvU",
        "colab_type": "code",
        "colab": {
          "base_uri": "https://localhost:8080/",
          "height": 175
        },
        "outputId": "136f8431-2f5e-416d-ea62-066d3f753875"
      },
      "source": [
        "train_set = train_set.assign(label=lambda df: df.alphabet + '_' + df.label)\n",
        "test_set = test_set.assign(label=lambda df: df.alphabet + '_' + df.label)"
      ],
      "execution_count": 2,
      "outputs": [
        {
          "output_type": "error",
          "ename": "NameError",
          "evalue": "ignored",
          "traceback": [
            "\u001b[0;31m---------------------------------------------------------------------------\u001b[0m",
            "\u001b[0;31mNameError\u001b[0m                                 Traceback (most recent call last)",
            "\u001b[0;32m<ipython-input-2-75a292002b3b>\u001b[0m in \u001b[0;36m<module>\u001b[0;34m()\u001b[0m\n\u001b[0;32m----> 1\u001b[0;31m \u001b[0mtrain_set\u001b[0m \u001b[0;34m=\u001b[0m \u001b[0mtrain_set\u001b[0m\u001b[0;34m.\u001b[0m\u001b[0massign\u001b[0m\u001b[0;34m(\u001b[0m\u001b[0mlabel\u001b[0m\u001b[0;34m=\u001b[0m\u001b[0;32mlambda\u001b[0m \u001b[0mdf\u001b[0m\u001b[0;34m:\u001b[0m \u001b[0mdf\u001b[0m\u001b[0;34m.\u001b[0m\u001b[0malphabet\u001b[0m \u001b[0;34m+\u001b[0m \u001b[0;34m'_'\u001b[0m \u001b[0;34m+\u001b[0m \u001b[0mdf\u001b[0m\u001b[0;34m.\u001b[0m\u001b[0mlabel\u001b[0m\u001b[0;34m)\u001b[0m\u001b[0;34m\u001b[0m\u001b[0;34m\u001b[0m\u001b[0m\n\u001b[0m\u001b[1;32m      2\u001b[0m \u001b[0mtest_set\u001b[0m \u001b[0;34m=\u001b[0m \u001b[0mtest_set\u001b[0m\u001b[0;34m.\u001b[0m\u001b[0massign\u001b[0m\u001b[0;34m(\u001b[0m\u001b[0mlabel\u001b[0m\u001b[0;34m=\u001b[0m\u001b[0;32mlambda\u001b[0m \u001b[0mdf\u001b[0m\u001b[0;34m:\u001b[0m \u001b[0mdf\u001b[0m\u001b[0;34m.\u001b[0m\u001b[0malphabet\u001b[0m \u001b[0;34m+\u001b[0m \u001b[0;34m'_'\u001b[0m \u001b[0;34m+\u001b[0m \u001b[0mdf\u001b[0m\u001b[0;34m.\u001b[0m\u001b[0mlabel\u001b[0m\u001b[0;34m)\u001b[0m\u001b[0;34m\u001b[0m\u001b[0;34m\u001b[0m\u001b[0m\n",
            "\u001b[0;31mNameError\u001b[0m: name 'train_set' is not defined"
          ]
        }
      ]
    },
    {
      "cell_type": "code",
      "metadata": {
        "pycharm": {
          "name": "#%% Training basic SiameseNets\n"
        },
        "id": "REBvmRdmRTvX",
        "colab_type": "code",
        "colab": {}
      },
      "source": [
        "siamese_nets = SiameseNets()\n",
        "val_set = train_set.sample(frac=0.3, replace=False)\n",
        "train_set = train_set.loc[lambda df: ~df.index.isin(val_set.index)]\n",
        "callbacks = [TensorBoard(), ModelCheckpoint('logs/proto_nets/best_weights.h5')]\n",
        "(Path('logs') / 'proto_nets').mkdir(parents=True, exist_ok=True)\n",
        "preprocessing = iaa.Sequential([\n",
        "    iaa.Affine(\n",
        "        translate_percent={'x': (-0.2, 0.2), 'y': (-0.2, 0.2)},\n",
        "        rotate=(-10, 10),\n",
        "        shear=(-0.8, 1.2),\n",
        "    )\n",
        "])\n",
        "train_sequence = RandomBalancedPairsSequence(train_set, preprocessing=preprocessing, batch_size=16)\n",
        "val_sequence = RandomBalancedPairsSequence(val_set, batch_size=16)\n",
        "\n",
        "siamese_nets.compile(optimizer='Adam', loss='binary_crossentropy')\n",
        "Model.fit_generator(  # to use patched fit_generator, see first cell\n",
        "    siamese_nets,\n",
        "    train_sequence,\n",
        "    validation_data=val_sequence,\n",
        "    callbacks=callbacks,\n",
        "    epochs=100,\n",
        "    steps_per_epoch=1000,\n",
        "    validation_steps=200,\n",
        "    use_multiprocessing=True,\n",
        ")"
      ],
      "execution_count": 0,
      "outputs": []
    },
    {
      "cell_type": "code",
      "metadata": {
        "pycharm": {
          "name": "#%% Prediction\n"
        },
        "id": "oZXuvEVaRTva",
        "colab_type": "code",
        "colab": {}
      },
      "source": [
        "encoder = siamese_nets.get_layer('branch_model')\n",
        "head_model = siamese_nets.get_layer('head_model')\n",
        "test_sequence = DeterministicSequence(test_set, batch_size=16)\n",
        "embeddings = encoder.predict_generator(test_sequence, verbose=1)\n",
        "\n",
        "k_shot = 1\n",
        "n_way = 5\n",
        "support = (\n",
        "    test_set\n",
        "    .loc[lambda df: df.label.isin(test_set.label.drop_duplicates().sample(n_way))]\n",
        "    .groupby('label')\n",
        "    .apply(lambda group: group.sample(k_shot).drop('label', axis=1))\n",
        "    .reset_index('label')\n",
        ")\n",
        "query = (\n",
        "    test_set\n",
        "    .loc[lambda df: df.label.isin(support.label.unique())]\n",
        "    .loc[lambda df: ~df.index.isin(support.index)]\n",
        "    .loc[lambda df: df.index.repeat(k_shot * n_way)]\n",
        "    .reset_index()\n",
        ")\n",
        "support = (\n",
        "    support\n",
        "    .loc[lambda df: pd.np.tile(df.index, len(query) // (k_shot * n_way))]\n",
        "    .reset_index()\n",
        ")\n",
        "predictions = (\n",
        "    pd.concat([\n",
        "        query,\n",
        "        pd.DataFrame(head_model.predict([embeddings[query['index']], embeddings[support['index']]]), columns=['score']),\n",
        "        support.add_suffix('_support'),\n",
        "    ], axis=1)\n",
        ")\n",
        "confusion_matrix = (\n",
        "    predictions\n",
        "    .groupby(query.columns.to_list())\n",
        "    .apply(lambda group: group.nlargest(1, columns='score').label_support)\n",
        "    .reset_index()\n",
        "    .pivot_table(\n",
        "        values='image_name',\n",
        "        index='label_support',\n",
        "        columns='label',\n",
        "        aggfunc='count',\n",
        "        margins=True,\n",
        "        fill_value=0,\n",
        "    )\n",
        "    .assign(precision=lambda df: pd.np.diag(df)[:-1] / df.All[:-1])\n",
        "    .T.assign(recall=lambda df: pd.np.diag(df)[:-1] / df.All[:-2]).T\n",
        "    .assign(f1=lambda df: 2 * df.precision * df.loc['recall'] / (df.precision + df.loc['recall']))\n",
        ")\n"
      ],
      "execution_count": 0,
      "outputs": []
    }
  ]
}