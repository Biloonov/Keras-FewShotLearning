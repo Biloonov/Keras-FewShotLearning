{
 "cells": [
  {
   "cell_type": "code",
   "execution_count": null,
   "outputs": [],
   "source": [
    "import pandas as pd\n",
    "\n",
    "from keras_fsl.datasets import omniglot\n",
    "from keras_fsl.models import SiameseNets\n",
    "from keras_fsl.sequences import DeterministicSequence, RandomPairsSequence"
   ],
   "metadata": {
    "collapsed": false,
    "pycharm": {
     "name": "#%%\n"
    }
   }
  },
  {
   "cell_type": "code",
   "execution_count": null,
   "outputs": [],
   "source": [
    "train_set, test_set = omniglot.load_data()"
   ],
   "metadata": {
    "collapsed": false,
    "pycharm": {
     "name": "#%% Get data\n"
    }
   }
  },
  {
   "cell_type": "code",
   "execution_count": null,
   "outputs": [],
   "source": [
    "train_set = train_set.assign(label=lambda df: df.alphabet + '_' + df.label)\n",
    "test_set = test_set.assign(label=lambda df: df.alphabet + '_' + df.label)"
   ],
   "metadata": {
    "collapsed": false,
    "pycharm": {
     "name": "#%% Update label columns to be able to mix alphabet during training\n"
    }
   }
  },
  {
   "cell_type": "code",
   "execution_count": null,
   "outputs": [],
   "source": [
    "model = SiameseNets(\n",
    "    branch_model={'name': 'SingleConv2D', 'init': {'input_shape': (105, 105, 3)}},\n",
    "    head_model='DenseSigmoid',\n",
    ")\n",
    "train_sequence = RandomPairsSequence(train_set, batch_size=16)\n",
    "model.compile(optimizer='Adam', loss='binary_crossentropy')\n",
    "model.fit_generator(train_sequence)"
   ],
   "metadata": {
    "collapsed": false,
    "pycharm": {
     "name": "#%% Training\n"
    }
   }
  },
  {
   "cell_type": "code",
   "execution_count": null,
   "outputs": [],
   "source": [
    "encoder = model.get_layer('branch_model')\n",
    "head_model = model.get_layer('head_model')\n",
    "test_sequence = DeterministicSequence(test_set, batch_size=16)\n",
    "embeddings = encoder.predict_generator(test_sequence, verbose=1)\n",
    "\n",
    "k_shot = 1\n",
    "n_way = 5\n",
    "support = (\n",
    "    test_set\n",
    "    .loc[lambda df: df.label.isin(test_set.label.drop_duplicates().sample(n_way))]\n",
    "    .groupby('label')\n",
    "    .apply(lambda group: group.sample(k_shot).drop('label', axis=1))\n",
    "    .reset_index('label')\n",
    ")\n",
    "query = (\n",
    "    test_set\n",
    "    .loc[lambda df: df.label.isin(support.label.unique())]\n",
    "    .loc[lambda df: ~df.index.isin(support.index)]\n",
    "    .loc[lambda df: df.index.repeat(k_shot * n_way)]\n",
    "    .reset_index()\n",
    ")\n",
    "support = (\n",
    "    support\n",
    "    .loc[lambda df: pd.np.tile(df.index, len(query) // (k_shot * n_way))]\n",
    "    .reset_index()\n",
    ")\n",
    "predictions = (\n",
    "    pd.concat([\n",
    "        query,\n",
    "        pd.DataFrame(head_model.predict([embeddings[query['index']], embeddings[support['index']]]), columns=['score']),\n",
    "        support.add_suffix('_support'),\n",
    "    ], axis=1)\n",
    ")\n",
    "confusion_matrix = (\n",
    "    predictions\n",
    "    .groupby(query.columns.to_list())\n",
    "    .apply(lambda group: group.nlargest(1, columns='score').label_support)\n",
    "    .reset_index()\n",
    "    .pivot_table(\n",
    "        values='image_name',\n",
    "        index='label_support',\n",
    "        columns='label',\n",
    "        aggfunc='count',\n",
    "        margins=True,\n",
    "        fill_value=0,\n",
    "    )\n",
    "    .assign(precision=lambda df: pd.np.diag(df)[:-1] / df.All[:-1])\n",
    "    .T.assign(recall=lambda df: pd.np.diag(df)[:-1] / df.All[:-2]).T\n",
    "    .assign(f1=lambda df: 2 * df.precision * df.loc['recall'] / (df.precision + df.loc['recall']))\n",
    ")"
   ],
   "metadata": {
    "collapsed": false,
    "pycharm": {
     "name": "#%% Prediction\n"
    }
   }
  }
 ],
 "metadata": {
  "language_info": {
   "codemirror_mode": {
    "name": "ipython",
    "version": 2
   },
   "file_extension": ".py",
   "mimetype": "text/x-python",
   "name": "python",
   "nbconvert_exporter": "python",
   "pygments_lexer": "ipython2",
   "version": "2.7.6"
  },
  "kernelspec": {
   "name": "python3",
   "language": "python",
   "display_name": "Python 3"
  },
  "pycharm": {
   "stem_cell": {
    "cell_type": "raw",
    "source": [],
    "metadata": {
     "collapsed": false
    }
   }
  }
 },
 "nbformat": 4,
 "nbformat_minor": 0
}
